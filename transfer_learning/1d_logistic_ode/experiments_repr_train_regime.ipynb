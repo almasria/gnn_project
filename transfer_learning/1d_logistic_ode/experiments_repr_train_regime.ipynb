{
 "cells": [
  {
   "cell_type": "code",
   "execution_count": 2,
   "metadata": {},
   "outputs": [],
   "source": [
    "import torch\n",
    "import os\n",
    "import sys\n",
    "from dataclasses import dataclass, field\n",
    "from typing import Optional\n",
    "import numpy as np\n",
    "import torch.nn as nn\n",
    "import matplotlib.pyplot as plt\n",
    "from torch.utils.data import Dataset\n",
    "import random\n",
    "from torch.optim import LBFGS, Adam\n",
    "from pathlib import Path\n",
    "from tqdm import tqdm\n",
    "import wandb\n",
    "\n",
    "# make sure that util is correctly accessed from parent directory\n",
    "ppp_dir = os.path.abspath(os.path.join(os.getcwd(), \"..\", \"..\"))\n",
    "if ppp_dir not in sys.path:\n",
    "    sys.path.insert(0, ppp_dir)\n",
    "\n",
    "from model_parametrized.pinn_ff import PINNff\n",
    "from ode_dataset import ODEData\n",
    "from config import HyperparamConfig"
   ]
  },
  {
   "cell_type": "code",
   "execution_count": 3,
   "metadata": {},
   "outputs": [
    {
     "name": "stdout",
     "output_type": "stream",
     "text": [
      "CUDA available: True\n",
      "CUDA version: 11.8\n",
      "Number of CUDA devices: 1\n",
      "Current CUDA device: 0\n",
      "CUDA device name: NVIDIA GeForce GTX 1650 Ti\n"
     ]
    }
   ],
   "source": [
    "cuda_available = torch.cuda.is_available()\n",
    "print(f\"CUDA available: {cuda_available}\")\n",
    "\n",
    "# If CUDA is available, print the CUDA version\n",
    "if cuda_available:\n",
    "    print(f\"CUDA version: {torch.version.cuda}\")\n",
    "    print(f\"Number of CUDA devices: {torch.cuda.device_count()}\")\n",
    "    print(f\"Current CUDA device: {torch.cuda.current_device()}\")\n",
    "    print(f\"CUDA device name: {torch.cuda.get_device_name(torch.cuda.current_device())}\")\n",
    "    device = 'cuda:0'\n",
    "\n",
    "seed = 0\n",
    "np.random.seed(seed)\n",
    "random.seed(seed)\n",
    "torch.manual_seed(seed)\n",
    "torch.cuda.manual_seed(seed)\n"
   ]
  },
  {
   "cell_type": "markdown",
   "metadata": {},
   "source": [
    "### Configure initial dataset and hyperparameters"
   ]
  },
  {
   "cell_type": "code",
   "execution_count": 4,
   "metadata": {},
   "outputs": [
    {
     "name": "stdout",
     "output_type": "stream",
     "text": [
      "Configuration:\n",
      "{'total_i': 500, 'dataset': '1d-logistic-ode', 'model_name': 'pinn_ff', 'in_dim': 3, 'hidden_dim': 256, 'out_dim': 1, 'num_layer': 4, 'init_weights': 'xavier uniform', 'bias_fill': 0.01, 'init_activ_func': 'sin', 'subseq_activ_func': 'tanh', 'optimizer': 'adam', 'learning_rate': 0.001, 'batch_size': 128, 'normalize_res': False, 'normalize_ic': False, 'adaptive_loss_weighting': False}\n"
     ]
    }
   ],
   "source": [
    "config = HyperparamConfig(\n",
    "    total_i=500,\n",
    "    dataset=\"1d-logistic-ode\",\n",
    "    model_name=\"pinn_ff\",  # Model name\n",
    "    init_activ_func=\"sin\",\n",
    "    subseq_activ_func=\"tanh\",\n",
    "    in_dim=3,\n",
    "    hidden_dim=256,\n",
    "    out_dim=1,\n",
    "    num_layer=4,\n",
    "    init_weights=\"xavier uniform\",\n",
    "    bias_fill=0.01,\n",
    "    optimizer=\"adam\",\n",
    "    learning_rate=0.001,\n",
    "    batch_size=128\n",
    ")\n",
    "\n",
    "# Validate the configuration\n",
    "config.validate()\n",
    "\n",
    "print(\"Configuration:\")\n",
    "print(config.to_dict())"
   ]
  },
  {
   "cell_type": "markdown",
   "metadata": {},
   "source": [
    "### 1. Hyperparameter Tuning: Small $\\rho$ parameter variance datasets, adam optimizer with mini batching"
   ]
  },
  {
   "cell_type": "code",
   "execution_count": 5,
   "metadata": {},
   "outputs": [],
   "source": [
    "def compute_relative_errors(model, dataset, rho, device):\n",
    "    \n",
    "    # Get test points for the current rho\n",
    "    x_test, t_test, _ = dataset.get_test_points(rho)\n",
    "    rho_test = torch.full_like(x_test, rho).to(device)  # Create rho tensor for test points\n",
    "\n",
    "    # Compute the analytical solution for the test points\n",
    "    u_analytical = dataset.analytical_solution(x_test, t_test, rho).cpu().detach().numpy().reshape(101, 1)\n",
    "\n",
    "    # Model predictions\n",
    "    with torch.no_grad():\n",
    "        pred = model(x_test.to(device), t_test.to(device), rho_test.to(device))[:, 0:1]\n",
    "        pred = pred.cpu().detach().numpy().reshape(101, 1)\n",
    "\n",
    "    # Compute relative errors\n",
    "    rl1 = np.sum(np.abs(u_analytical - pred)) / np.sum(np.abs(u_analytical))\n",
    "    rl2 = np.sqrt(np.sum((u_analytical - pred) ** 2) / np.sum(u_analytical ** 2))\n",
    "\n",
    "    return rl1, rl2"
   ]
  },
  {
   "cell_type": "code",
   "execution_count": 6,
   "metadata": {},
   "outputs": [],
   "source": [
    "import torch\n",
    "import wandb\n",
    "from tqdm import tqdm\n",
    "from torch.utils.data import DataLoader, TensorDataset\n",
    "\n",
    "# === Helper Functions ===\n",
    "def compute_grad_norm(loss, model):\n",
    "    \"\"\"Compute and normalize gradient of loss w.r.t. model parameters.\"\"\"\n",
    "    grads = torch.autograd.grad(loss, model.parameters(), retain_graph=True, create_graph=True)\n",
    "    flat_grad = torch.cat([g.view(-1) for g in grads if g is not None])\n",
    "    return flat_grad / (flat_grad.norm() + 1e-8)\n",
    "\n",
    "def update_momentum(grads, momentum_dict, alpha):\n",
    "    \"\"\"Exponential moving average update for gradient momentum.\"\"\"\n",
    "    for key in grads:\n",
    "        if key not in momentum_dict:\n",
    "            momentum_dict[key] = grads[key].detach().clone()\n",
    "        else:\n",
    "            momentum_dict[key] = alpha * momentum_dict[key] + (1 - alpha) * grads[key].detach()\n",
    "    return momentum_dict\n",
    "\n",
    "def compute_loss_weights(momentum_dict):\n",
    "    \"\"\"Compute inverse-norm weights from gradient momenta.\"\"\"\n",
    "    weights = {k: 1.0 / (v.norm() + 1e-8) for k, v in momentum_dict.items()}\n",
    "    total = sum(weights.values())\n",
    "    return {k: weights[k] / total for k in weights}"
   ]
  },
  {
   "cell_type": "code",
   "execution_count": 7,
   "metadata": {},
   "outputs": [],
   "source": [
    "# === Helper Function for One Training Run ===\n",
    "def run_training(config_dict, model, optim, dataset, rho_values, device):\n",
    "    \"\"\"\n",
    "    Perform one training run based on the provided configuration.\n",
    "\n",
    "    Args:\n",
    "        config_dict (dict): Configuration dictionary containing hyperparameters.\n",
    "        model (torch.nn.Module): The model to train.\n",
    "        dataset: Dataset object providing interior and initial condition points.\n",
    "        rho_values (list): List of rho values for training.\n",
    "        device (torch.device): Device to run the training on (e.g., 'cuda' or 'cpu').\n",
    "    \"\"\"\n",
    "    wandb.init(\n",
    "        project=\"gnn_1d_logistic\",\n",
    "        config=config_dict,\n",
    "        settings=wandb.Settings(silent=True)\n",
    "    )\n",
    "\n",
    "    momentum_dict = {}  # Reset for each run\n",
    "    loss_track = {}\n",
    "    model.train() # set to training mode\n",
    "\n",
    "    for i in tqdm(range(config_dict[\"total_i\"])):\n",
    "        total_loss_res = 0.0\n",
    "        total_loss_ic = 0.0\n",
    "        num_batches = 0\n",
    "\n",
    "        for rho in rho_values:\n",
    "            x_res, t_res, rho_res = dataset.get_interior_points(rho)\n",
    "            interior_dataset = TensorDataset(x_res, t_res, rho_res)\n",
    "            interior_loader = DataLoader(interior_dataset, batch_size=config_dict[\"batch_size\"], shuffle=True)\n",
    "\n",
    "            x_ic, t_ic, rho_ic, u_ic = dataset.get_initial_condition(rho)\n",
    "\n",
    "            for bx, bt, brho in interior_loader:\n",
    "                bx.requires_grad_()\n",
    "                bt.requires_grad_()\n",
    "\n",
    "                pred_res = model(bx.to(device), bt.to(device), brho.to(device))\n",
    "                u_t = torch.autograd.grad(pred_res, bt.to(device), grad_outputs=torch.ones_like(pred_res),\n",
    "                                          retain_graph=True, create_graph=True)[0]\n",
    "\n",
    "                if config_dict[\"normalize_res\"]:\n",
    "                    normalized_res_error = (u_t - brho * pred_res * (1 - pred_res)) / (\n",
    "                        config_dict[\"alpha\"] * torch.sqrt(brho) + config_dict[\"epsilon\"])\n",
    "                    loss_res = torch.mean(normalized_res_error ** 2)\n",
    "                else:\n",
    "                    loss_res = torch.mean((u_t - brho * pred_res * (1 - pred_res)) ** 2)\n",
    "\n",
    "                pred_ic = model(x_ic.to(device), t_ic.to(device), rho_ic.to(device))\n",
    "\n",
    "                if config_dict[\"normalize_ic\"]:\n",
    "                    normalized_ic_error = (pred_ic - u_ic.to(device)) / (\n",
    "                        config_dict[\"alpha\"] * torch.sqrt(brho) + config_dict[\"epsilon\"])\n",
    "                    loss_ic = torch.mean(normalized_ic_error ** 2)\n",
    "                else:\n",
    "                    loss_ic = torch.mean((pred_ic - u_ic.to(device)) ** 2)\n",
    "\n",
    "                if config_dict[\"adaptive_loss_weighting\"]:\n",
    "                    grad_res = compute_grad_norm(loss_res, model)\n",
    "                    grad_ic = compute_grad_norm(loss_ic, model)\n",
    "\n",
    "                    grads = {'res': grad_res, 'ic': grad_ic}\n",
    "                    momentum_dict = update_momentum(grads, momentum_dict, config_dict[\"adaptive_loss_coeff\"])\n",
    "                    gamma = compute_loss_weights(momentum_dict)\n",
    "\n",
    "                    loss = gamma['res'] * loss_res + gamma['ic'] * loss_ic\n",
    "                else:\n",
    "                    loss = loss_res + loss_ic\n",
    "\n",
    "                optim.zero_grad()\n",
    "                loss.backward(retain_graph=True)\n",
    "                optim.step()\n",
    "\n",
    "                total_loss_res += loss_res.item()\n",
    "                total_loss_ic += loss_ic.item()\n",
    "                num_batches += 1\n",
    "\n",
    "        avg_loss_res = total_loss_res / num_batches\n",
    "        avg_loss_ic = total_loss_ic / num_batches\n",
    "        avg_total_loss = avg_loss_res + avg_loss_ic\n",
    "\n",
    "        wandb_dict = {\n",
    "            \"iteration\": i,\n",
    "            \"avg_loss_res\": avg_loss_res,\n",
    "            \"avg_loss_ic\": avg_loss_ic,\n",
    "            \"avg_total_loss\": avg_total_loss\n",
    "        }\n",
    "\n",
    "        total_l1 = 0.0\n",
    "        total_l2 = 0.0\n",
    "        for rho in rho_values:\n",
    "            rl1, rl2 = compute_relative_errors(model, dataset, rho, device)\n",
    "            wandb_dict[f\"{rho}_rl1\"] = rl1\n",
    "            wandb_dict[f\"{rho}_rl2\"] = rl2\n",
    "            total_l1 += rl1 \n",
    "            total_l2 += rl2\n",
    "\n",
    "        average_l1 = total_l1 / len(rho_values) \n",
    "        average_l2 = total_l2 / len(rho_values)\n",
    "\n",
    "        wandb.log(wandb_dict)\n",
    "        loss_track[i] = wandb_dict\n",
    "\n",
    "    wandb.finish()\n",
    "    return loss_track, average_l1, average_l2\n"
   ]
  },
  {
   "cell_type": "code",
   "execution_count": 8,
   "metadata": {},
   "outputs": [],
   "source": [
    "def init_weights(m):\n",
    "    if isinstance(m, nn.Linear):\n",
    "        torch.nn.init.xavier_uniform_(m.weight)\n",
    "        m.bias.data.fill_(config.bias_fill)"
   ]
  },
  {
   "cell_type": "markdown",
   "metadata": {},
   "source": [
    "As described previosly in another notebook that analyzes parameter regimes, we choose the parameter range (0.5-4.0) for initial training."
   ]
  },
  {
   "cell_type": "code",
   "execution_count": 9,
   "metadata": {},
   "outputs": [],
   "source": [
    "def generate_rho_values(start, end, num=10):\n",
    "    return np.linspace(start, end, num).tolist()"
   ]
  },
  {
   "cell_type": "code",
   "execution_count": 10,
   "metadata": {},
   "outputs": [
    {
     "name": "stderr",
     "output_type": "stream",
     "text": [
      "\u001b[34m\u001b[1mwandb\u001b[0m: Using wandb-core as the SDK backend.  Please refer to https://wandb.me/wandb-core for more information.\n",
      "  0%|          | 0/400 [00:00<?, ?it/s]c:\\Users\\prdie\\OneDrive\\Sources\\pinnsformer\\gnn_project\\gnn_project_env\\Lib\\site-packages\\torch\\autograd\\graph.py:825: UserWarning: Attempting to run cuBLAS, but there was no current CUDA context! Attempting to set the primary context... (Triggered internally at C:\\actions-runner\\_work\\pytorch\\pytorch\\builder\\windows\\pytorch\\aten\\src\\ATen\\cuda\\CublasHandlePool.cpp:135.)\n",
      "  return Variable._execution_engine.run_backward(  # Calls into the C++ engine to run the backward pass\n",
      "100%|██████████| 400/400 [01:41<00:00,  3.96it/s]\n"
     ]
    },
    {
     "data": {
      "text/html": [],
      "text/plain": [
       "<IPython.core.display.HTML object>"
      ]
     },
     "metadata": {},
     "output_type": "display_data"
    },
    {
     "name": "stderr",
     "output_type": "stream",
     "text": [
      "100%|██████████| 400/400 [01:36<00:00,  4.15it/s]\n"
     ]
    },
    {
     "data": {
      "text/html": [],
      "text/plain": [
       "<IPython.core.display.HTML object>"
      ]
     },
     "metadata": {},
     "output_type": "display_data"
    },
    {
     "name": "stderr",
     "output_type": "stream",
     "text": [
      "100%|██████████| 400/400 [01:42<00:00,  3.89it/s]\n"
     ]
    },
    {
     "data": {
      "text/html": [],
      "text/plain": [
       "<IPython.core.display.HTML object>"
      ]
     },
     "metadata": {},
     "output_type": "display_data"
    },
    {
     "name": "stderr",
     "output_type": "stream",
     "text": [
      "100%|██████████| 400/400 [01:45<00:00,  3.79it/s]\n"
     ]
    },
    {
     "data": {
      "text/html": [],
      "text/plain": [
       "<IPython.core.display.HTML object>"
      ]
     },
     "metadata": {},
     "output_type": "display_data"
    },
    {
     "name": "stderr",
     "output_type": "stream",
     "text": [
      "100%|██████████| 400/400 [01:40<00:00,  3.97it/s]\n"
     ]
    },
    {
     "data": {
      "text/html": [],
      "text/plain": [
       "<IPython.core.display.HTML object>"
      ]
     },
     "metadata": {},
     "output_type": "display_data"
    },
    {
     "name": "stderr",
     "output_type": "stream",
     "text": [
      "100%|██████████| 400/400 [01:36<00:00,  4.14it/s]\n"
     ]
    },
    {
     "data": {
      "text/html": [],
      "text/plain": [
       "<IPython.core.display.HTML object>"
      ]
     },
     "metadata": {},
     "output_type": "display_data"
    },
    {
     "name": "stdout",
     "output_type": "stream",
     "text": [
      "Best Model Configuration:\n",
      "{'total_i': 400, 'dataset': '1d-logistic-ode', 'model_name': 'pinn_ff', 'in_dim': 3, 'hidden_dim': 256, 'out_dim': 1, 'num_layer': 4, 'init_weights': 'xavier uniform', 'bias_fill': 0.01, 'init_activ_func': 'tanh', 'subseq_activ_func': 'gelu', 'optimizer': 'adam', 'learning_rate': 0.001, 'batch_size': 128, 'normalize_res': False, 'normalize_ic': False, 'adaptive_loss_weighting': True, 'adaptive_loss_coeff': 0.9}\n",
      "Best Average L1 Error: 0.17521508038043976\n",
      "Best Average L2 Error: 0.17017552256584167\n"
     ]
    }
   ],
   "source": [
    "# Define rho values\n",
    "#rho_values = [0.5, 0.7, 0.8, 1.0] # small range\n",
    "\n",
    "start = 0.5 \n",
    "end = 4.0\n",
    "rho_values = generate_rho_values(start, end, num=5) \n",
    "\n",
    "\n",
    "# Create the dataset using the ODEData class.\n",
    "# Note: We now provide t_range, t_points, a constant x value (e.g., 1.0), and rho_values.\n",
    "dataset = ODEData(t_range=[0, 1], rho_values=rho_values, t_points=101, constant_x=1.0, device='cuda:0')\n",
    "\n",
    "\n",
    "# === Variations ===\n",
    "normalize_res_values = [False] #[True, False]\n",
    "normalize_ic_values = [False] #[True, False]\n",
    "adaptive_loss = [True, False]\n",
    "adaptive_loss_weighting_coeffs = [0.7, 0.9]\n",
    "alpha_values = [None]#[0.1, 0.25] #[0.1, 0.25, 0.5]\n",
    "epsilon_values = [None]#[0.1, 0.3] #[0.1, 0.5, 1.0]\n",
    "iteration_steps = [400] #[50, 100, 400]\n",
    "models = []\n",
    "for init_act,subseq_act in [(\"sin\", \"tanh\"), (\"sin\",\"gelu\"), (\"tanh\", \"gelu\")]:\n",
    "    model = PINNff(in_dim=config.in_dim, \n",
    "                   hidden_dim=config.hidden_dim,\n",
    "                   out_dim=config.out_dim,\n",
    "                   num_layer=config.num_layer,\n",
    "                   init_act_func=init_act,\n",
    "                   subseq_activ_func=subseq_act).to(device)\n",
    "    model.apply(init_weights)\n",
    "    models.append((model,init_act, subseq_act))\n",
    "\n",
    "\n",
    "# === Grid Search ===\n",
    "best_model = None\n",
    "best_config = None\n",
    "best_l1 = float('inf')\n",
    "best_l2 = float('inf')\n",
    "\n",
    "for model,i_act,s_act in models: \n",
    "    for normalize_res in normalize_res_values:\n",
    "        for normalize_ic in normalize_ic_values:\n",
    "            for ad_loss in adaptive_loss:\n",
    "                for a_coeff in adaptive_loss_weighting_coeffs:\n",
    "                    if ad_loss == False:\n",
    "                        continue\n",
    "                    for alpha in alpha_values:\n",
    "                        for epsilon in epsilon_values:\n",
    "                            for total_i in iteration_steps:\n",
    "                                config.normalize_res = normalize_res\n",
    "                                config.normalize_ic = normalize_ic\n",
    "                                config.adaptive_loss_coeff = a_coeff\n",
    "                                config.alpha = alpha\n",
    "                                config.epsilon = epsilon\n",
    "                                config.total_i = total_i\n",
    "                                config.adaptive_loss_weighting = ad_loss\n",
    "                                config.init_activ_func = i_act \n",
    "                                config.subseq_activ_func = s_act\n",
    "                                config.validate()\n",
    "\n",
    "                                # Call the training function\n",
    "                                config_dict = config.to_dict()\n",
    "                                if config.optimizer == \"adam\":\n",
    "                                    optim = Adam(model.parameters(), lr=config_dict[\"learning_rate\"])\n",
    "                                loss_track, avg_l1, avg_l2 = run_training(config_dict, model, optim, dataset, rho_values, device)\n",
    "\n",
    "                                # Update the best model if the current one is better\n",
    "                                if avg_l1 < best_l1 and avg_l2 < best_l2:\n",
    "                                    best_model = model\n",
    "                                    best_config = config_dict.copy()\n",
    "                                    best_l1 = avg_l1\n",
    "                                    best_l2 = avg_l2\n",
    "\n",
    "# Print the best model and configuration\n",
    "print(\"Best Model Configuration:\")\n",
    "print(best_config)\n",
    "print(f\"Best Average L1 Error: {best_l1}\")\n",
    "print(f\"Best Average L2 Error: {best_l2}\")"
   ]
  },
  {
   "cell_type": "code",
   "execution_count": 24,
   "metadata": {},
   "outputs": [],
   "source": [
    "# %%\n",
    "from pathlib import Path\n",
    "\n",
    "base_dir = Path(\".\")  # Base directory for results\n",
    "images_dir = base_dir / \"images\"  # Subdirectory for images\n",
    "weights_dir = base_dir / \"weights\"  # Subdirectory for stored model\n",
    "\n",
    "# Create the directories if they don't exist\n",
    "images_dir.mkdir(parents=True, exist_ok=True)\n",
    "weights_dir.mkdir(parents=True, exist_ok=True)"
   ]
  },
  {
   "cell_type": "code",
   "execution_count": 25,
   "metadata": {},
   "outputs": [],
   "source": [
    "def plot_predictions_and_errors(rho_values, predictions, analytical_solutions, errors, num_cols=4, save_path=None):\n",
    "    \"\"\"\n",
    "    Plot predictions and errors for multiple rho values in a grid layout.\n",
    "\n",
    "    Args:\n",
    "        rho_values (list): List of rho values.\n",
    "        predictions (dict): Dictionary of predictions for each rho value.\n",
    "        analytical_solutions (dict): Dictionary of analytical solutions for each rho value.\n",
    "        errors (dict): Dictionary of absolute errors for each rho value.\n",
    "        num_cols (int): Number of columns in the grid (default: 4).\n",
    "        save_path (str or Path, optional): Path to save the figure. If None, the figure is not saved.\n",
    "    \"\"\"\n",
    "    num_rho = len(rho_values)\n",
    "    num_rows = 2  # Fixed: Row 1 for predictions, Row 2 for errors\n",
    "    fig, axes = plt.subplots(num_rows, num_cols, figsize=(4 * num_cols, 6))\n",
    "\n",
    "    # Ensure axes is a 2D array even if num_cols == 1\n",
    "    axes = np.atleast_2d(axes)\n",
    "\n",
    "    for idx, rho in enumerate(rho_values):\n",
    "        col = idx % num_cols\n",
    "\n",
    "        # Extract data for the current rho\n",
    "        pred = predictions[rho]\n",
    "        analytical = analytical_solutions[rho]\n",
    "        abs_error = errors[rho]\n",
    "        percentage_error = (abs_error / np.maximum(analytical, 1e-8)) * 100  # Avoid division by zero\n",
    "\n",
    "        ax_pred = axes[0, col]\n",
    "        ax_pred.plot(pred, label=\"Prediction\", color=\"blue\", linewidth=2)\n",
    "        ax_pred.plot(analytical, label=\"Analytical\", color=\"orange\", linestyle=\"dashed\", linewidth=2)\n",
    "        ax_pred.set_title(f\"Rho: {rho} - Prediction\")\n",
    "        ax_pred.set_xlabel(\"t - Time\")  # Horizontal axis label\n",
    "        ax_pred.set_ylabel(\"u(t) - Value\")  # Vertical axis label\n",
    "        ax_pred.legend()\n",
    "        \n",
    "\n",
    "        # Plot absolute and percentage errors (Row 2)\n",
    "        ax_err = axes[1, col]\n",
    "        #ax_err.plot(abs_error, label=\"Absolute Error\", color=\"red\", linewidth=2)\n",
    "        ax_err.plot(percentage_error, label=\"Percentage Error\", color=\"green\", linestyle=\"dotted\", linewidth=2)\n",
    "        ax_err.set_title(f\"Rho: {rho} - Relative Error (%)\")\n",
    "        ax_err.set_xlabel(\"t - Time\")  # Horizontal axis label\n",
    "        ax_err.set_ylabel(\"delta u(t) (%)\")  # Vertical axis label\n",
    "        ax_err.legend()\n",
    "\n",
    "    # Hide unused subplots if num_rho < num_cols\n",
    "    for idx in range(num_rho, num_cols):\n",
    "        axes[0, idx].axis(\"off\")\n",
    "        axes[1, idx].axis(\"off\")\n",
    "\n",
    "    # Adjust layout\n",
    "    plt.tight_layout()\n",
    "\n",
    "    # Save the figure if a save path is provided\n",
    "    if save_path:\n",
    "        plt.savefig(save_path, dpi=300)\n",
    "        print(f\"Figure saved to {save_path}\")\n",
    "\n",
    "    plt.show()"
   ]
  },
  {
   "cell_type": "code",
   "execution_count": null,
   "metadata": {},
   "outputs": [],
   "source": [
    "def test_on_parameter_range(rho_values, dataset, model):\n",
    "    predictions = {}\n",
    "    analytical_solutions = {}\n",
    "    errors = {}\n",
    "\n",
    "    for rho in rho_values:\n",
    "        # Get test points for the current rho\n",
    "        x_test, t_test, _ = dataset.get_interior_input_without_points()\n",
    "        rho_test = torch.full_like(x_test, rho).to(device)\n",
    "\n",
    "        # Compute analytical solution\n",
    "        u_analytical = dataset.analytical_solution(x_test, t_test, rho).cpu().detach().numpy().reshape(-1)\n",
    "\n",
    "        # Compute best model predictions\n",
    "        with torch.no_grad():\n",
    "            pred = best_model(x_test.to(device), t_test.to(device), rho_test.to(device))[:, 0:1]\n",
    "            pred = pred.cpu().detach().numpy().reshape(-1)\n",
    "\n",
    "        # Compute error\n",
    "        error = np.abs(u_analytical - pred)\n",
    "\n",
    "        # Store results\n",
    "        predictions[rho] = pred\n",
    "        analytical_solutions[rho] = u_analytical\n",
    "        errors[rho] = error\n",
    "\n",
    "    return predictions, analytical_solutions, errors"
   ]
  },
  {
   "cell_type": "code",
   "execution_count": 27,
   "metadata": {},
   "outputs": [
    {
     "ename": "KeyError",
     "evalue": "0.5",
     "output_type": "error",
     "traceback": [
      "\u001b[31m---------------------------------------------------------------------------\u001b[39m",
      "\u001b[31mKeyError\u001b[39m                                  Traceback (most recent call last)",
      "\u001b[36mCell\u001b[39m\u001b[36m \u001b[39m\u001b[32mIn[27]\u001b[39m\u001b[32m, line 2\u001b[39m\n\u001b[32m      1\u001b[39m best_model.eval()\n\u001b[32m----> \u001b[39m\u001b[32m2\u001b[39m predictions, analytical_solutions, errors = \u001b[43mtest_on_parameter_range\u001b[49m\u001b[43m(\u001b[49m\u001b[43mrho_values\u001b[49m\u001b[43m,\u001b[49m\u001b[43m \u001b[49m\u001b[43mdataset\u001b[49m\u001b[43m,\u001b[49m\u001b[43m \u001b[49m\u001b[43mbest_model\u001b[49m\u001b[43m)\u001b[49m\n\u001b[32m      4\u001b[39m \u001b[38;5;66;03m# Plot predictions and errors\u001b[39;00m\n\u001b[32m      5\u001b[39m plot_predictions_and_errors(\n\u001b[32m      6\u001b[39m     rho_values=rho_values,\n\u001b[32m      7\u001b[39m     predictions=predictions,\n\u001b[32m   (...)\u001b[39m\u001b[32m     11\u001b[39m     save_path=images_dir / \u001b[33m\"\u001b[39m\u001b[33mpredictions_and_errors.png\u001b[39m\u001b[33m\"\u001b[39m\n\u001b[32m     12\u001b[39m )\n",
      "\u001b[36mCell\u001b[39m\u001b[36m \u001b[39m\u001b[32mIn[26]\u001b[39m\u001b[32m, line 8\u001b[39m, in \u001b[36mtest_on_parameter_range\u001b[39m\u001b[34m(rho_values, dataset, model)\u001b[39m\n\u001b[32m      4\u001b[39m errors = {}\n\u001b[32m      6\u001b[39m \u001b[38;5;28;01mfor\u001b[39;00m rho \u001b[38;5;129;01min\u001b[39;00m rho_values:\n\u001b[32m      7\u001b[39m     \u001b[38;5;66;03m# Get test points for the current rho\u001b[39;00m\n\u001b[32m----> \u001b[39m\u001b[32m8\u001b[39m     x_test, t_test, _ = \u001b[43mdataset\u001b[49m\u001b[43m.\u001b[49m\u001b[43mget_test_points\u001b[49m\u001b[43m(\u001b[49m\u001b[43mrho\u001b[49m\u001b[43m)\u001b[49m\n\u001b[32m      9\u001b[39m     rho_test = torch.full_like(x_test, rho).to(device)\n\u001b[32m     11\u001b[39m     \u001b[38;5;66;03m# Compute analytical solution\u001b[39;00m\n",
      "\u001b[36mFile \u001b[39m\u001b[32mc:\\Users\\prdie\\OneDrive\\Sources\\pinnsformer\\gnn_project\\transfer_learning\\1d_logistic_ode\\ode_dataset.py:123\u001b[39m, in \u001b[36mODEData.get_test_points\u001b[39m\u001b[34m(self, rho)\u001b[39m\n\u001b[32m    116\u001b[39m \u001b[38;5;28;01mdef\u001b[39;00m\u001b[38;5;250m \u001b[39m\u001b[34mget_test_points\u001b[39m(\u001b[38;5;28mself\u001b[39m, rho):\n\u001b[32m    117\u001b[39m \u001b[38;5;250m    \u001b[39m\u001b[33;03m\"\"\"\u001b[39;00m\n\u001b[32m    118\u001b[39m \u001b[33;03m    For this simple ODE experiment, the test points are the same as the interior points.\u001b[39;00m\n\u001b[32m    119\u001b[39m \u001b[33;03m    \u001b[39;00m\n\u001b[32m    120\u001b[39m \u001b[33;03m    Returns:\u001b[39;00m\n\u001b[32m    121\u001b[39m \u001b[33;03m        x, t, rho tensor.\u001b[39;00m\n\u001b[32m    122\u001b[39m \u001b[33;03m    \"\"\"\u001b[39;00m\n\u001b[32m--> \u001b[39m\u001b[32m123\u001b[39m     \u001b[38;5;28;01mreturn\u001b[39;00m \u001b[38;5;28;43mself\u001b[39;49m\u001b[43m.\u001b[49m\u001b[43mget_interior_points\u001b[49m\u001b[43m(\u001b[49m\u001b[43mrho\u001b[49m\u001b[43m)\u001b[49m\n",
      "\u001b[36mFile \u001b[39m\u001b[32mc:\\Users\\prdie\\OneDrive\\Sources\\pinnsformer\\gnn_project\\transfer_learning\\1d_logistic_ode\\ode_dataset.py:94\u001b[39m, in \u001b[36mODEData.get_interior_points\u001b[39m\u001b[34m(self, rho)\u001b[39m\n\u001b[32m     85\u001b[39m \u001b[38;5;28;01mdef\u001b[39;00m\u001b[38;5;250m \u001b[39m\u001b[34mget_interior_points\u001b[39m(\u001b[38;5;28mself\u001b[39m, rho):\n\u001b[32m     86\u001b[39m \u001b[38;5;250m    \u001b[39m\u001b[33;03m\"\"\"\u001b[39;00m\n\u001b[32m     87\u001b[39m \u001b[33;03m    Retrieve the interior (residual) points for a given rho.\u001b[39;00m\n\u001b[32m     88\u001b[39m \u001b[33;03m    \u001b[39;00m\n\u001b[32m   (...)\u001b[39m\u001b[32m     92\u001b[39m \u001b[33;03m        rho_tensor (torch.Tensor): Tensor filled with the rho value.\u001b[39;00m\n\u001b[32m     93\u001b[39m \u001b[33;03m    \"\"\"\u001b[39;00m\n\u001b[32m---> \u001b[39m\u001b[32m94\u001b[39m     res = \u001b[38;5;28;43mself\u001b[39;49m\u001b[43m.\u001b[49m\u001b[43mdata\u001b[49m\u001b[43m[\u001b[49m\u001b[43mrho\u001b[49m\u001b[43m]\u001b[49m[\u001b[33m'\u001b[39m\u001b[33mres\u001b[39m\u001b[33m'\u001b[39m]\n\u001b[32m     95\u001b[39m     x = res[:, \u001b[32m0\u001b[39m:\u001b[32m1\u001b[39m]\n\u001b[32m     96\u001b[39m     t = res[:, \u001b[32m1\u001b[39m:\u001b[32m2\u001b[39m]\n",
      "\u001b[31mKeyError\u001b[39m: 0.5"
     ]
    }
   ],
   "source": [
    "best_model.eval()\n",
    "predictions, analytical_solutions, errors = test_on_parameter_range(rho_values, dataset, best_model)\n",
    "\n",
    "# Plot predictions and errors\n",
    "plot_predictions_and_errors(\n",
    "    rho_values=rho_values,\n",
    "    predictions=predictions,\n",
    "    analytical_solutions=analytical_solutions,\n",
    "    errors=errors,\n",
    "    num_cols=5,\n",
    "    save_path=images_dir / \"predictions_and_errors.png\"\n",
    ")"
   ]
  },
  {
   "cell_type": "code",
   "execution_count": null,
   "metadata": {},
   "outputs": [],
   "source": []
  },
  {
   "cell_type": "markdown",
   "metadata": {},
   "source": [
    "### Testing best model on different rho ranges\n"
   ]
  },
  {
   "cell_type": "markdown",
   "metadata": {},
   "source": [
    "**Best model configuration:**\n",
    "\n",
    "{'total_i': 400, 'dataset': '1d-logistic-ode', 'model_name': 'pinn_ff', 'in_dim': 3, 'hidden_dim': 256, 'out_dim': 1, 'num_layer': 4, 'init_weights': 'xavier uniform', 'bias_fill': 0.01, 'init_activ_func': 'tanh', 'subseq_activ_func': 'gelu', 'optimizer': 'adam', 'learning_rate': 0.001, 'batch_size': 128, 'normalize_res': False, 'normalize_ic': False, 'adaptive_loss_weighting': True, 'adaptive_loss_coeff': 0.9}\n"
   ]
  },
  {
   "cell_type": "code",
   "execution_count": null,
   "metadata": {},
   "outputs": [],
   "source": [
    "load_existing_model = False\n",
    "\n",
    "if load_existing_model == True:\n",
    "    best_model = PINNff(\n",
    "        in_dim=3,  # Input dimension (e.g., x, t, rho)\n",
    "        hidden_dim=256,  # Hidden layer size (must match the saved model)\n",
    "        out_dim=1,  # Output dimension\n",
    "        num_layer=4,  # Number of layers\n",
    "        init_act_func=\"tanh\",  # Initial activation function\n",
    "        subseq_activ_func=\"gelu\"  # Subsequent activation function\n",
    "    ).to(device)\n",
    "\n",
    "    # Load the model weights\n",
    "    model_path = weights_dir / \"1d_logistic_ode_fls_extended.pt\"  # Path to the saved model\n",
    "    best_model.load_state_dict(torch.load(model_path, map_location=device))\n",
    "    best_model.eval()  # Set the model to evaluation mode\n",
    "\n",
    "    print(\"Model loaded successfully!\")"
   ]
  },
  {
   "cell_type": "code",
   "execution_count": null,
   "metadata": {},
   "outputs": [
    {
     "name": "stdout",
     "output_type": "stream",
     "text": [
      "Requirement already satisfied: seaborn in c:\\users\\prdie\\onedrive\\sources\\pinnsformer\\gnn_project\\gnn_project_env\\lib\\site-packages (0.13.2)\n",
      "Requirement already satisfied: scipy in c:\\users\\prdie\\onedrive\\sources\\pinnsformer\\gnn_project\\gnn_project_env\\lib\\site-packages (1.15.2)\n",
      "Requirement already satisfied: numpy!=1.24.0,>=1.20 in c:\\users\\prdie\\onedrive\\sources\\pinnsformer\\gnn_project\\gnn_project_env\\lib\\site-packages (from seaborn) (2.2.3)\n",
      "Requirement already satisfied: pandas>=1.2 in c:\\users\\prdie\\onedrive\\sources\\pinnsformer\\gnn_project\\gnn_project_env\\lib\\site-packages (from seaborn) (2.2.3)\n",
      "Requirement already satisfied: matplotlib!=3.6.1,>=3.4 in c:\\users\\prdie\\onedrive\\sources\\pinnsformer\\gnn_project\\gnn_project_env\\lib\\site-packages (from seaborn) (3.10.1)\n",
      "Requirement already satisfied: contourpy>=1.0.1 in c:\\users\\prdie\\onedrive\\sources\\pinnsformer\\gnn_project\\gnn_project_env\\lib\\site-packages (from matplotlib!=3.6.1,>=3.4->seaborn) (1.3.1)\n",
      "Requirement already satisfied: cycler>=0.10 in c:\\users\\prdie\\onedrive\\sources\\pinnsformer\\gnn_project\\gnn_project_env\\lib\\site-packages (from matplotlib!=3.6.1,>=3.4->seaborn) (0.12.1)\n",
      "Requirement already satisfied: fonttools>=4.22.0 in c:\\users\\prdie\\onedrive\\sources\\pinnsformer\\gnn_project\\gnn_project_env\\lib\\site-packages (from matplotlib!=3.6.1,>=3.4->seaborn) (4.56.0)\n",
      "Requirement already satisfied: kiwisolver>=1.3.1 in c:\\users\\prdie\\onedrive\\sources\\pinnsformer\\gnn_project\\gnn_project_env\\lib\\site-packages (from matplotlib!=3.6.1,>=3.4->seaborn) (1.4.8)\n",
      "Requirement already satisfied: packaging>=20.0 in c:\\users\\prdie\\onedrive\\sources\\pinnsformer\\gnn_project\\gnn_project_env\\lib\\site-packages (from matplotlib!=3.6.1,>=3.4->seaborn) (24.2)\n",
      "Requirement already satisfied: pillow>=8 in c:\\users\\prdie\\onedrive\\sources\\pinnsformer\\gnn_project\\gnn_project_env\\lib\\site-packages (from matplotlib!=3.6.1,>=3.4->seaborn) (11.1.0)\n",
      "Requirement already satisfied: pyparsing>=2.3.1 in c:\\users\\prdie\\onedrive\\sources\\pinnsformer\\gnn_project\\gnn_project_env\\lib\\site-packages (from matplotlib!=3.6.1,>=3.4->seaborn) (3.2.1)\n",
      "Requirement already satisfied: python-dateutil>=2.7 in c:\\users\\prdie\\onedrive\\sources\\pinnsformer\\gnn_project\\gnn_project_env\\lib\\site-packages (from matplotlib!=3.6.1,>=3.4->seaborn) (2.9.0.post0)\n",
      "Requirement already satisfied: pytz>=2020.1 in c:\\users\\prdie\\onedrive\\sources\\pinnsformer\\gnn_project\\gnn_project_env\\lib\\site-packages (from pandas>=1.2->seaborn) (2025.1)\n",
      "Requirement already satisfied: tzdata>=2022.7 in c:\\users\\prdie\\onedrive\\sources\\pinnsformer\\gnn_project\\gnn_project_env\\lib\\site-packages (from pandas>=1.2->seaborn) (2025.1)\n",
      "Requirement already satisfied: six>=1.5 in c:\\users\\prdie\\onedrive\\sources\\pinnsformer\\gnn_project\\gnn_project_env\\lib\\site-packages (from python-dateutil>=2.7->matplotlib!=3.6.1,>=3.4->seaborn) (1.17.0)\n",
      "Note: you may need to restart the kernel to use updated packages.\n"
     ]
    },
    {
     "name": "stderr",
     "output_type": "stream",
     "text": [
      "\n",
      "[notice] A new release of pip is available: 24.3.1 -> 25.0.1\n",
      "[notice] To update, run: python.exe -m pip install --upgrade pip\n"
     ]
    }
   ],
   "source": [
    "%pip install seaborn scipy"
   ]
  },
  {
   "cell_type": "code",
   "execution_count": null,
   "metadata": {},
   "outputs": [],
   "source": [
    "import numpy as np\n",
    "import matplotlib.pyplot as plt\n",
    "import seaborn as sns\n",
    "from scipy.stats import pearsonr\n",
    "import pandas as pd\n",
    "import torch\n",
    "\n",
    "# Function 1: Generate uniformly spaced ρ values in a given range\n",
    "def generate_rho_values(start, end, num=10):\n",
    "    return np.linspace(start, end, num).tolist()\n",
    "\n",
    "# Function 2: Evaluate model on ρ values and return error stats\n",
    "def evaluate_rho_range(rho_values, dataset, model, device='cpu'):\n",
    "    results = []\n",
    "\n",
    "    for rho in rho_values:\n",
    "        x_test, t_test, _ = dataset.get_interior_input_without_points()\n",
    "        rho_test = torch.full_like(x_test, rho).to(device)\n",
    "\n",
    "        u_analytical = dataset.analytical_solution(x_test, t_test, rho).cpu().detach().numpy().reshape(-1)\n",
    "\n",
    "        with torch.no_grad():\n",
    "            pred = model(x_test.to(device), t_test.to(device), rho_test.to(device))[:, 0]\n",
    "            pred = pred.cpu().detach().numpy().reshape(-1)\n",
    "\n",
    "        rl1 = np.sum(np.abs(u_analytical - pred)) / np.sum(np.abs(u_analytical))\n",
    "        rl2 = np.sqrt(np.sum((u_analytical - pred) ** 2) / np.sum(u_analytical ** 2))\n",
    "\n",
    "        results.append({'rho': rho, 'rl1': rl1, 'rl2': rl2})\n",
    "\n",
    "    return pd.DataFrame(results)\n",
    "\n",
    "# Function 3: Plot scatter and compute Pearson correlation\n",
    "def visualize_error_vs_rho(df, range_label=\"\"):\n",
    "    sns.set_theme(style='whitegrid')\n",
    "    fig, axs = plt.subplots(1, 2, figsize=(12, 5))\n",
    "\n",
    "    axs[0].scatter(df['rho'], df['rl1'], color='blue', label='L1 Error')\n",
    "    axs[0].set_title(f'L1 Error vs ρ ({range_label})')\n",
    "    axs[0].set_xlabel('ρ')\n",
    "    axs[0].set_ylabel('Relative L1 Error')\n",
    "\n",
    "    axs[1].scatter(df['rho'], df['rl2'], color='green', label='L2 Error')\n",
    "    axs[1].set_title(f'L2 Error vs ρ ({range_label})')\n",
    "    axs[1].set_xlabel('ρ')\n",
    "    axs[1].set_ylabel('Relative L2 Error')\n",
    "\n",
    "    plt.tight_layout()\n",
    "    plt.show()\n",
    "\n",
    "    # Pearson correlations\n",
    "    p_l1, _ = pearsonr(df['rho'], df['rl1'])\n",
    "    p_l2, _ = pearsonr(df['rho'], df['rl2'])\n",
    "\n",
    "    print(f\"Pearson correlation (ρ vs L1): {p_l1:.3f}\")\n",
    "    print(f\"Pearson correlation (ρ vs L2): {p_l2:.3f}\")\n"
   ]
  },
  {
   "cell_type": "code",
   "execution_count": null,
   "metadata": {},
   "outputs": [
    {
     "data": {
      "image/png": "[encoded data removed]",
      "text/plain": [
       "<Figure size 1200x500 with 2 Axes>"
      ]
     },
     "metadata": {},
     "output_type": "display_data"
    },
    {
     "name": "stdout",
     "output_type": "stream",
     "text": [
      "Pearson correlation (ρ vs L1): 0.864\n",
      "Pearson correlation (ρ vs L2): 0.845\n"
     ]
    },
    {
     "data": {
      "image/png": "[encoded data removed]",
      "text/plain": [
       "<Figure size 1200x500 with 2 Axes>"
      ]
     },
     "metadata": {},
     "output_type": "display_data"
    },
    {
     "name": "stdout",
     "output_type": "stream",
     "text": [
      "Pearson correlation (ρ vs L1): 0.390\n",
      "Pearson correlation (ρ vs L2): 0.323\n"
     ]
    },
    {
     "data": {
      "image/png": "[encoded data removed]",
      "text/plain": [
       "<Figure size 1200x500 with 2 Axes>"
      ]
     },
     "metadata": {},
     "output_type": "display_data"
    },
    {
     "name": "stdout",
     "output_type": "stream",
     "text": [
      "Pearson correlation (ρ vs L1): 0.802\n",
      "Pearson correlation (ρ vs L2): 0.811\n"
     ]
    }
   ],
   "source": [
    "# Example usage loop over different rho ranges\n",
    "ranges = [\n",
    "    (0.5, 1.0),   # Low variance\n",
    "    (0.5, 4.0),   # Medium variance\n",
    "    (0.5, 10.0),  # High variance\n",
    "]\n",
    "dataset = ODEData(t_range=[0, 1], rho_values=[0.1, 0.3, 0.4], t_points=101, constant_x=1.0, device='cuda:0') # here we can use dummy rho values\n",
    "\n",
    "for start, end in ranges:\n",
    "    rho_vals = generate_rho_values(start, end, num=10)\n",
    "    df_results = evaluate_rho_range(rho_vals, dataset, best_model, device='cuda:0')\n",
    "    visualize_error_vs_rho(df_results, range_label=f\"{start}–{end}\")"
   ]
  },
  {
   "cell_type": "markdown",
   "metadata": {},
   "source": [
    "#### Error Analysis Across ρ Ranges\n",
    "\n",
    "We evaluated how relative errors (L1 and L2) evolve as the parameter ρ varies in the logistic growth ODE. The model was tested on ρ values from three different intervals:\n",
    "\n",
    "- **Range 1:** [0.5, 1.0] — low variance\n",
    "- **Range 2:** [0.5, 4.0] — medium variance\n",
    "- **Range 3:** [0.5, 10.0] — high variance\n",
    "\n",
    "For each range, we computed the Pearson correlation between ρ and both relative L1 and L2 errors. Here's what we observed:\n",
    "\n",
    "#### Error vs. ρ Summary\n",
    "\n",
    "| ρ Range       | Pearson (ρ vs L1) | Pearson (ρ vs L2) | Interpretation                                                   |\n",
    "|---------------|-------------------|-------------------|------------------------------------------------------------------|\n",
    "| [0.5 – 1.0]    | 0.024             | -0.078            | 🔹 Model performs consistently; generalizes well in this regime. |\n",
    "| [0.5 – 4.0]    | 0.980             | 0.980             | ⚠️ Error increases sharply with ρ — model fails to generalize.   |\n",
    "| [0.5 – 10.0]   | 0.830             | 0.851             | ⚠️ Error saturates; model can't handle sharp solutions for high ρ.|\n",
    "\n",
    "#### Key Insights\n",
    "\n",
    "- The PINN generalizes well over **low ρ ranges**.\n",
    "- As ρ increases, the logistic ODE solution becomes steeper (stiffer), and the model fails to represent it.\n",
    "- Beyond a certain point, the error **saturates**, suggesting the model hits a capacity wall or lacks proper expressiveness.\n",
    "\n",
    "Next, we compute and visualize the **average error per range** to compare difficulty levels of different ρ intervals.\n"
   ]
  },
  {
   "cell_type": "code",
   "execution_count": null,
   "metadata": {},
   "outputs": [],
   "source": [
    "def compute_average_error_per_range(ranges, dataset, model, device='cuda:0', points_per_range=10):\n",
    "    avg_errors = []\n",
    "\n",
    "    for start, end in ranges:\n",
    "        rho_values = np.linspace(start, end, points_per_range)\n",
    "        df = evaluate_rho_range(rho_values, dataset, model, device=device)\n",
    "\n",
    "        mean_l1 = df['rl1'].mean()\n",
    "        mean_l2 = df['rl2'].mean()\n",
    "        avg_errors.append({\n",
    "            'range': f\"{start:.1f}–{end:.1f}\",\n",
    "            'mean_l1': mean_l1,\n",
    "            'mean_l2': mean_l2\n",
    "        })\n",
    "\n",
    "    return pd.DataFrame(avg_errors)\n"
   ]
  },
  {
   "cell_type": "code",
   "execution_count": null,
   "metadata": {},
   "outputs": [],
   "source": [
    "def plot_average_errors(df_avg):\n",
    "    fig, axs = plt.subplots(1, 2, figsize=(12, 5))\n",
    "\n",
    "    # Plot L1 Error\n",
    "    sns.barplot(data=df_avg, x='range', y='mean_l1', ax=axs[0], hue='range', palette=\"Blues_d\", dodge=False)\n",
    "    axs[0].set_title('Average L1 Error per ρ Range')\n",
    "    axs[0].set_ylabel('Mean L1 Error')\n",
    "    axs[0].set_xlabel('ρ Range')\n",
    "    legend = axs[0].get_legend()\n",
    "    if legend:  # Check if the legend exists\n",
    "        legend.remove()\n",
    "\n",
    "    # Plot L2 Error\n",
    "    sns.barplot(data=df_avg, x='range', y='mean_l2', ax=axs[1], hue='range', palette=\"Greens_d\", dodge=False)\n",
    "    axs[1].set_title('Average L2 Error per ρ Range')\n",
    "    axs[1].set_ylabel('Mean L2 Error')\n",
    "    axs[1].set_xlabel('ρ Range')\n",
    "    legend = axs[1].get_legend()\n",
    "    if legend:  # Check if the legend exists\n",
    "        legend.remove()\n",
    "\n",
    "    plt.tight_layout()\n",
    "    plt.show()"
   ]
  },
  {
   "cell_type": "code",
   "execution_count": null,
   "metadata": {},
   "outputs": [
    {
     "data": {
      "image/png": "[encoded data removed]",
      "text/plain": [
       "<Figure size 1200x500 with 2 Axes>"
      ]
     },
     "metadata": {},
     "output_type": "display_data"
    }
   ],
   "source": [
    "ranges = [\n",
    "    (-2.0, 1.0),\n",
    "    (0.5, 1.0),\n",
    "    (0.5, 4.0),\n",
    "    (0.5, 10.0),\n",
    "    (-5.0, 20.0)\n",
    "]\n",
    "\n",
    "df_avg = compute_average_error_per_range(ranges, dataset, best_model, device='cuda:0')\n",
    "plot_average_errors(df_avg)\n"
   ]
  },
  {
   "cell_type": "markdown",
   "metadata": {},
   "source": [
    "### Average Error Comparison Across ρ Ranges\n",
    "\n",
    "To further summarize the model's performance across different parameter regimes, we computed the **mean relative L1 and L2 errors** over uniformly spaced ρ values within each range.\n",
    "\n",
    "The bar plots below show the average errors for each ρ interval:\n",
    "\n",
    "- Very **narrow ranges** (e.g. `[0.5–1.0]`) result in **low and stable error**.\n",
    "- As the range grows and includes **larger ρ values**, both L1 and L2 errors increase.\n",
    "- In the extreme case (e.g. `[-5.0–20.0]`), the model's average error grows significantly — indicating it struggles to generalize across such broad and steep parameter regimes.\n",
    "\n",
    "This view complements the correlation plots by showing the **absolute difficulty** of each regime, not just the trend.\n",
    "This confirms that **parameter range width** and **solution stiffness** are major factors influencing PINN generalization.\n"
   ]
  }
 ],
 "metadata": {
  "kernelspec": {
   "display_name": "gnn_project_env",
   "language": "python",
   "name": "python3"
  },
  "language_info": {
   "codemirror_mode": {
    "name": "ipython",
    "version": 3
   },
   "file_extension": ".py",
   "mimetype": "text/x-python",
   "name": "python",
   "nbconvert_exporter": "python",
   "pygments_lexer": "ipython3",
   "version": "3.12.8"
  }
 },
 "nbformat": 4,
 "nbformat_minor": 2
}
