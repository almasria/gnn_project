{
 "cells": [
  {
   "cell_type": "code",
   "execution_count": 9,
   "metadata": {},
   "outputs": [],
   "source": [
    "import torch\n",
    "import os\n",
    "import sys\n",
    "from dataclasses import dataclass, field\n",
    "from typing import Optional\n",
    "import numpy as np\n",
    "import torch.nn as nn\n",
    "import matplotlib.pyplot as plt\n",
    "from torch.utils.data import Dataset\n",
    "import random\n",
    "from torch.optim import LBFGS, Adam\n",
    "from pathlib import Path\n",
    "from tqdm import tqdm\n",
    "import wandb\n",
    "\n",
    "# make sure that util is correctly accessed from parent directory\n",
    "ppp_dir = os.path.abspath(os.path.join(os.getcwd(), \"..\", \"..\"))\n",
    "if ppp_dir not in sys.path:\n",
    "    sys.path.insert(0, ppp_dir)\n",
    "\n",
    "from model_parametrized.pinn_ff import PINNff\n",
    "from ode_dataset import ODEData\n",
    "from config import HyperparamConfig"
   ]
  },
  {
   "cell_type": "code",
   "execution_count": 10,
   "metadata": {},
   "outputs": [
    {
     "name": "stdout",
     "output_type": "stream",
     "text": [
      "CUDA available: True\n",
      "CUDA version: 11.8\n",
      "Number of CUDA devices: 1\n",
      "Current CUDA device: 0\n",
      "CUDA device name: NVIDIA GeForce GTX 1650 Ti\n"
     ]
    }
   ],
   "source": [
    "cuda_available = torch.cuda.is_available()\n",
    "print(f\"CUDA available: {cuda_available}\")\n",
    "\n",
    "# If CUDA is available, print the CUDA version\n",
    "if cuda_available:\n",
    "    print(f\"CUDA version: {torch.version.cuda}\")\n",
    "    print(f\"Number of CUDA devices: {torch.cuda.device_count()}\")\n",
    "    print(f\"Current CUDA device: {torch.cuda.current_device()}\")\n",
    "    print(f\"CUDA device name: {torch.cuda.get_device_name(torch.cuda.current_device())}\")\n",
    "    device = 'cuda:0'\n",
    "\n",
    "seed = 0\n",
    "np.random.seed(seed)\n",
    "random.seed(seed)\n",
    "torch.manual_seed(seed)\n",
    "torch.cuda.manual_seed(seed)\n"
   ]
  },
  {
   "cell_type": "markdown",
   "metadata": {},
   "source": [
    "### Configure initial dataset and hyperparameters"
   ]
  },
  {
   "cell_type": "code",
   "execution_count": 11,
   "metadata": {},
   "outputs": [
    {
     "name": "stdout",
     "output_type": "stream",
     "text": [
      "Configuration:\n",
      "{'total_i': 500, 'dataset': '1d-logistic-ode', 'model_name': 'pinn_ff', 'in_dim': 3, 'hidden_dim': 256, 'out_dim': 1, 'num_layer': 4, 'init_weights': 'xavier uniform', 'bias_fill': 0.01, 'init_activ_func': 'sin', 'subseq_activ_func': 'tanh', 'optimizer': 'adam', 'learning_rate': 0.001, 'batch_size': 128, 'normalize_res': False, 'normalize_ic': False, 'adaptive_loss_weighting': False}\n"
     ]
    }
   ],
   "source": [
    "config = HyperparamConfig(\n",
    "    total_i=500,\n",
    "    dataset=\"1d-logistic-ode\",\n",
    "    model_name=\"pinn_ff\",  # Model name\n",
    "    init_activ_func=\"sin\",\n",
    "    subseq_activ_func=\"tanh\",\n",
    "    in_dim=3,\n",
    "    hidden_dim=256,\n",
    "    out_dim=1,\n",
    "    num_layer=4,\n",
    "    init_weights=\"xavier uniform\",\n",
    "    bias_fill=0.01,\n",
    "    optimizer=\"adam\",\n",
    "    learning_rate=0.001,\n",
    "    batch_size=128\n",
    ")\n",
    "\n",
    "# Validate the configuration\n",
    "config.validate()\n",
    "\n",
    "print(\"Configuration:\")\n",
    "print(config.to_dict())"
   ]
  },
  {
   "cell_type": "markdown",
   "metadata": {},
   "source": [
    "### 1. Hyperparameter Tuning: Small $\\rho$ parameter variance datasets, adam optimizer with mini batching"
   ]
  },
  {
   "cell_type": "code",
   "execution_count": 12,
   "metadata": {},
   "outputs": [],
   "source": [
    "def compute_relative_errors(model, dataset, rho, device):\n",
    "    \n",
    "    # Get test points for the current rho\n",
    "    x_test, t_test, _ = dataset.get_test_points(rho)\n",
    "    rho_test = torch.full_like(x_test, rho).to(device)  # Create rho tensor for test points\n",
    "\n",
    "    # Compute the analytical solution for the test points\n",
    "    u_analytical = dataset.analytical_solution(x_test, t_test, rho).cpu().detach().numpy().reshape(101, 1)\n",
    "\n",
    "    # Model predictions\n",
    "    with torch.no_grad():\n",
    "        pred = model(x_test.to(device), t_test.to(device), rho_test.to(device))[:, 0:1]\n",
    "        pred = pred.cpu().detach().numpy().reshape(101, 1)\n",
    "\n",
    "    # Compute relative errors\n",
    "    rl1 = np.sum(np.abs(u_analytical - pred)) / np.sum(np.abs(u_analytical))\n",
    "    rl2 = np.sqrt(np.sum((u_analytical - pred) ** 2) / np.sum(u_analytical ** 2))\n",
    "\n",
    "    return rl1, rl2"
   ]
  },
  {
   "cell_type": "code",
   "execution_count": 13,
   "metadata": {},
   "outputs": [],
   "source": [
    "import torch\n",
    "import wandb\n",
    "from tqdm import tqdm\n",
    "from torch.utils.data import DataLoader, TensorDataset\n",
    "\n",
    "# === Helper Functions ===\n",
    "def compute_grad_norm(loss, model):\n",
    "    \"\"\"Compute and normalize gradient of loss w.r.t. model parameters.\"\"\"\n",
    "    grads = torch.autograd.grad(loss, model.parameters(), retain_graph=True, create_graph=True)\n",
    "    flat_grad = torch.cat([g.view(-1) for g in grads if g is not None])\n",
    "    return flat_grad / (flat_grad.norm() + 1e-8)\n",
    "\n",
    "def update_momentum(grads, momentum_dict, alpha):\n",
    "    \"\"\"Exponential moving average update for gradient momentum.\"\"\"\n",
    "    for key in grads:\n",
    "        if key not in momentum_dict:\n",
    "            momentum_dict[key] = grads[key].detach().clone()\n",
    "        else:\n",
    "            momentum_dict[key] = alpha * momentum_dict[key] + (1 - alpha) * grads[key].detach()\n",
    "    return momentum_dict\n",
    "\n",
    "def compute_loss_weights(momentum_dict):\n",
    "    \"\"\"Compute inverse-norm weights from gradient momenta.\"\"\"\n",
    "    weights = {k: 1.0 / (v.norm() + 1e-8) for k, v in momentum_dict.items()}\n",
    "    total = sum(weights.values())\n",
    "    return {k: weights[k] / total for k in weights}"
   ]
  },
  {
   "cell_type": "code",
   "execution_count": 14,
   "metadata": {},
   "outputs": [],
   "source": [
    "# === Helper Function for One Training Run ===\n",
    "def run_training(config_dict, model, optim, dataset, rho_values, device):\n",
    "    \"\"\"\n",
    "    Perform one training run based on the provided configuration.\n",
    "\n",
    "    Args:\n",
    "        config_dict (dict): Configuration dictionary containing hyperparameters.\n",
    "        model (torch.nn.Module): The model to train.\n",
    "        dataset: Dataset object providing interior and initial condition points.\n",
    "        rho_values (list): List of rho values for training.\n",
    "        device (torch.device): Device to run the training on (e.g., 'cuda' or 'cpu').\n",
    "    \"\"\"\n",
    "    wandb.init(\n",
    "        project=\"gnn_1d_logistic\",\n",
    "        config=config_dict,\n",
    "        settings=wandb.Settings(silent=True)\n",
    "    )\n",
    "\n",
    "    momentum_dict = {}  # Reset for each run\n",
    "    loss_track = {}\n",
    "\n",
    "    for i in tqdm(range(config_dict[\"total_i\"])):\n",
    "        total_loss_res = 0.0\n",
    "        total_loss_ic = 0.0\n",
    "        num_batches = 0\n",
    "\n",
    "        for rho in rho_values:\n",
    "            x_res, t_res, rho_res = dataset.get_interior_points(rho)\n",
    "            interior_dataset = TensorDataset(x_res, t_res, rho_res)\n",
    "            interior_loader = DataLoader(interior_dataset, batch_size=config_dict[\"batch_size\"], shuffle=True)\n",
    "\n",
    "            x_ic, t_ic, rho_ic, u_ic = dataset.get_initial_condition(rho)\n",
    "\n",
    "            for bx, bt, brho in interior_loader:\n",
    "                bx.requires_grad_()\n",
    "                bt.requires_grad_()\n",
    "\n",
    "                pred_res = model(bx.to(device), bt.to(device), brho.to(device))\n",
    "                u_t = torch.autograd.grad(pred_res, bt.to(device), grad_outputs=torch.ones_like(pred_res),\n",
    "                                          retain_graph=True, create_graph=True)[0]\n",
    "\n",
    "                if config_dict[\"normalize_res\"]:\n",
    "                    normalized_res_error = (u_t - brho * pred_res * (1 - pred_res)) / (\n",
    "                        config_dict[\"alpha\"] * torch.sqrt(brho) + config_dict[\"epsilon\"])\n",
    "                    loss_res = torch.mean(normalized_res_error ** 2)\n",
    "                else:\n",
    "                    loss_res = torch.mean((u_t - brho * pred_res * (1 - pred_res)) ** 2)\n",
    "\n",
    "                pred_ic = model(x_ic.to(device), t_ic.to(device), rho_ic.to(device))\n",
    "\n",
    "                if config_dict[\"normalize_ic\"]:\n",
    "                    normalized_ic_error = (pred_ic - u_ic.to(device)) / (\n",
    "                        config_dict[\"alpha\"] * torch.sqrt(brho) + config_dict[\"epsilon\"])\n",
    "                    loss_ic = torch.mean(normalized_ic_error ** 2)\n",
    "                else:\n",
    "                    loss_ic = torch.mean((pred_ic - u_ic.to(device)) ** 2)\n",
    "\n",
    "                if config_dict[\"adaptive_loss_weighting\"]:\n",
    "                    grad_res = compute_grad_norm(loss_res, model)\n",
    "                    grad_ic = compute_grad_norm(loss_ic, model)\n",
    "\n",
    "                    grads = {'res': grad_res, 'ic': grad_ic}\n",
    "                    momentum_dict = update_momentum(grads, momentum_dict, config_dict[\"adaptive_loss_coeff\"])\n",
    "                    gamma = compute_loss_weights(momentum_dict)\n",
    "\n",
    "                    loss = gamma['res'] * loss_res + gamma['ic'] * loss_ic\n",
    "                else:\n",
    "                    loss = loss_res + loss_ic\n",
    "\n",
    "                optim.zero_grad()\n",
    "                loss.backward(retain_graph=True)\n",
    "                optim.step()\n",
    "\n",
    "                total_loss_res += loss_res.item()\n",
    "                total_loss_ic += loss_ic.item()\n",
    "                num_batches += 1\n",
    "\n",
    "        avg_loss_res = total_loss_res / num_batches\n",
    "        avg_loss_ic = total_loss_ic / num_batches\n",
    "        avg_total_loss = avg_loss_res + avg_loss_ic\n",
    "\n",
    "        wandb_dict = {\n",
    "            \"iteration\": i,\n",
    "            \"avg_loss_res\": avg_loss_res,\n",
    "            \"avg_loss_ic\": avg_loss_ic,\n",
    "            \"avg_total_loss\": avg_total_loss\n",
    "        }\n",
    "\n",
    "        total_l1 = 0.0\n",
    "        total_l2 = 0.0\n",
    "        for rho in rho_values:\n",
    "            rl1, rl2 = compute_relative_errors(model, dataset, rho, device)\n",
    "            wandb_dict[f\"{rho}_rl1\"] = rl1\n",
    "            wandb_dict[f\"{rho}_rl2\"] = rl2\n",
    "            total_l1 += rl1 \n",
    "            total_l2 += rl2\n",
    "\n",
    "        average_l1 = total_l1 / len(rho_values) \n",
    "        average_l2 = total_l2 / len(rho_values)\n",
    "\n",
    "        wandb.log(wandb_dict)\n",
    "        loss_track[i] = wandb_dict\n",
    "\n",
    "    wandb.finish()\n",
    "    return loss_track, average_l1, average_l2\n"
   ]
  },
  {
   "cell_type": "code",
   "execution_count": 15,
   "metadata": {},
   "outputs": [],
   "source": [
    "def init_weights(m):\n",
    "    if isinstance(m, nn.Linear):\n",
    "        torch.nn.init.xavier_uniform_(m.weight)\n",
    "        m.bias.data.fill_(config.bias_fill)"
   ]
  },
  {
   "cell_type": "code",
   "execution_count": 16,
   "metadata": {},
   "outputs": [
    {
     "name": "stderr",
     "output_type": "stream",
     "text": [
      "100%|██████████| 50/50 [00:09<00:00,  5.19it/s]\n"
     ]
    },
    {
     "data": {
      "text/html": [],
      "text/plain": [
       "<IPython.core.display.HTML object>"
      ]
     },
     "metadata": {},
     "output_type": "display_data"
    },
    {
     "name": "stderr",
     "output_type": "stream",
     "text": [
      "100%|██████████| 100/100 [00:23<00:00,  4.19it/s]\n"
     ]
    },
    {
     "data": {
      "text/html": [],
      "text/plain": [
       "<IPython.core.display.HTML object>"
      ]
     },
     "metadata": {},
     "output_type": "display_data"
    },
    {
     "name": "stderr",
     "output_type": "stream",
     "text": [
      "100%|██████████| 400/400 [01:28<00:00,  4.51it/s]\n"
     ]
    },
    {
     "data": {
      "text/html": [],
      "text/plain": [
       "<IPython.core.display.HTML object>"
      ]
     },
     "metadata": {},
     "output_type": "display_data"
    },
    {
     "name": "stderr",
     "output_type": "stream",
     "text": [
      "100%|██████████| 50/50 [00:10<00:00,  4.94it/s]\n"
     ]
    },
    {
     "data": {
      "text/html": [],
      "text/plain": [
       "<IPython.core.display.HTML object>"
      ]
     },
     "metadata": {},
     "output_type": "display_data"
    },
    {
     "name": "stderr",
     "output_type": "stream",
     "text": [
      "100%|██████████| 100/100 [00:21<00:00,  4.55it/s]\n"
     ]
    },
    {
     "data": {
      "text/html": [],
      "text/plain": [
       "<IPython.core.display.HTML object>"
      ]
     },
     "metadata": {},
     "output_type": "display_data"
    },
    {
     "name": "stderr",
     "output_type": "stream",
     "text": [
      "100%|██████████| 400/400 [01:21<00:00,  4.94it/s]\n"
     ]
    },
    {
     "data": {
      "text/html": [],
      "text/plain": [
       "<IPython.core.display.HTML object>"
      ]
     },
     "metadata": {},
     "output_type": "display_data"
    },
    {
     "name": "stderr",
     "output_type": "stream",
     "text": [
      "100%|██████████| 50/50 [00:11<00:00,  4.49it/s]\n"
     ]
    },
    {
     "data": {
      "text/html": [],
      "text/plain": [
       "<IPython.core.display.HTML object>"
      ]
     },
     "metadata": {},
     "output_type": "display_data"
    },
    {
     "name": "stderr",
     "output_type": "stream",
     "text": [
      "100%|██████████| 100/100 [00:19<00:00,  5.20it/s]\n"
     ]
    },
    {
     "data": {
      "text/html": [],
      "text/plain": [
       "<IPython.core.display.HTML object>"
      ]
     },
     "metadata": {},
     "output_type": "display_data"
    },
    {
     "name": "stderr",
     "output_type": "stream",
     "text": [
      "100%|██████████| 400/400 [01:29<00:00,  4.45it/s]\n"
     ]
    },
    {
     "data": {
      "text/html": [],
      "text/plain": [
       "<IPython.core.display.HTML object>"
      ]
     },
     "metadata": {},
     "output_type": "display_data"
    },
    {
     "name": "stderr",
     "output_type": "stream",
     "text": [
      "100%|██████████| 50/50 [00:10<00:00,  4.57it/s]\n"
     ]
    },
    {
     "data": {
      "text/html": [],
      "text/plain": [
       "<IPython.core.display.HTML object>"
      ]
     },
     "metadata": {},
     "output_type": "display_data"
    },
    {
     "name": "stderr",
     "output_type": "stream",
     "text": [
      "100%|██████████| 100/100 [00:17<00:00,  5.74it/s]\n"
     ]
    },
    {
     "data": {
      "text/html": [],
      "text/plain": [
       "<IPython.core.display.HTML object>"
      ]
     },
     "metadata": {},
     "output_type": "display_data"
    },
    {
     "name": "stderr",
     "output_type": "stream",
     "text": [
      "100%|██████████| 400/400 [01:08<00:00,  5.88it/s]\n"
     ]
    },
    {
     "data": {
      "text/html": [],
      "text/plain": [
       "<IPython.core.display.HTML object>"
      ]
     },
     "metadata": {},
     "output_type": "display_data"
    },
    {
     "name": "stderr",
     "output_type": "stream",
     "text": [
      "100%|██████████| 50/50 [00:09<00:00,  5.13it/s]\n"
     ]
    },
    {
     "data": {
      "text/html": [],
      "text/plain": [
       "<IPython.core.display.HTML object>"
      ]
     },
     "metadata": {},
     "output_type": "display_data"
    },
    {
     "name": "stderr",
     "output_type": "stream",
     "text": [
      "100%|██████████| 100/100 [00:18<00:00,  5.48it/s]\n"
     ]
    },
    {
     "data": {
      "text/html": [],
      "text/plain": [
       "<IPython.core.display.HTML object>"
      ]
     },
     "metadata": {},
     "output_type": "display_data"
    },
    {
     "name": "stderr",
     "output_type": "stream",
     "text": [
      "100%|██████████| 400/400 [01:31<00:00,  4.35it/s]\n"
     ]
    },
    {
     "data": {
      "text/html": [],
      "text/plain": [
       "<IPython.core.display.HTML object>"
      ]
     },
     "metadata": {},
     "output_type": "display_data"
    },
    {
     "name": "stderr",
     "output_type": "stream",
     "text": [
      "100%|██████████| 50/50 [00:08<00:00,  5.77it/s]\n"
     ]
    },
    {
     "data": {
      "text/html": [],
      "text/plain": [
       "<IPython.core.display.HTML object>"
      ]
     },
     "metadata": {},
     "output_type": "display_data"
    },
    {
     "name": "stderr",
     "output_type": "stream",
     "text": [
      "100%|██████████| 100/100 [00:17<00:00,  5.59it/s]\n"
     ]
    },
    {
     "data": {
      "text/html": [],
      "text/plain": [
       "<IPython.core.display.HTML object>"
      ]
     },
     "metadata": {},
     "output_type": "display_data"
    },
    {
     "name": "stderr",
     "output_type": "stream",
     "text": [
      "100%|██████████| 400/400 [01:04<00:00,  6.17it/s]\n"
     ]
    },
    {
     "data": {
      "text/html": [],
      "text/plain": [
       "<IPython.core.display.HTML object>"
      ]
     },
     "metadata": {},
     "output_type": "display_data"
    },
    {
     "name": "stderr",
     "output_type": "stream",
     "text": [
      "100%|██████████| 50/50 [00:11<00:00,  4.42it/s]\n"
     ]
    },
    {
     "data": {
      "text/html": [],
      "text/plain": [
       "<IPython.core.display.HTML object>"
      ]
     },
     "metadata": {},
     "output_type": "display_data"
    },
    {
     "name": "stderr",
     "output_type": "stream",
     "text": [
      "100%|██████████| 100/100 [00:20<00:00,  4.80it/s]\n"
     ]
    },
    {
     "data": {
      "text/html": [],
      "text/plain": [
       "<IPython.core.display.HTML object>"
      ]
     },
     "metadata": {},
     "output_type": "display_data"
    },
    {
     "name": "stderr",
     "output_type": "stream",
     "text": [
      "100%|██████████| 400/400 [01:19<00:00,  5.06it/s]\n"
     ]
    },
    {
     "data": {
      "text/html": [],
      "text/plain": [
       "<IPython.core.display.HTML object>"
      ]
     },
     "metadata": {},
     "output_type": "display_data"
    },
    {
     "name": "stderr",
     "output_type": "stream",
     "text": [
      "100%|██████████| 50/50 [00:08<00:00,  6.13it/s]\n"
     ]
    },
    {
     "data": {
      "text/html": [],
      "text/plain": [
       "<IPython.core.display.HTML object>"
      ]
     },
     "metadata": {},
     "output_type": "display_data"
    },
    {
     "name": "stderr",
     "output_type": "stream",
     "text": [
      "100%|██████████| 100/100 [00:15<00:00,  6.30it/s]\n"
     ]
    },
    {
     "data": {
      "text/html": [],
      "text/plain": [
       "<IPython.core.display.HTML object>"
      ]
     },
     "metadata": {},
     "output_type": "display_data"
    },
    {
     "name": "stderr",
     "output_type": "stream",
     "text": [
      "100%|██████████| 400/400 [01:18<00:00,  5.09it/s]\n"
     ]
    },
    {
     "data": {
      "text/html": [],
      "text/plain": [
       "<IPython.core.display.HTML object>"
      ]
     },
     "metadata": {},
     "output_type": "display_data"
    },
    {
     "name": "stderr",
     "output_type": "stream",
     "text": [
      "100%|██████████| 50/50 [00:11<00:00,  4.18it/s]\n"
     ]
    },
    {
     "data": {
      "text/html": [],
      "text/plain": [
       "<IPython.core.display.HTML object>"
      ]
     },
     "metadata": {},
     "output_type": "display_data"
    },
    {
     "name": "stderr",
     "output_type": "stream",
     "text": [
      "100%|██████████| 100/100 [00:24<00:00,  4.09it/s]\n"
     ]
    },
    {
     "data": {
      "text/html": [],
      "text/plain": [
       "<IPython.core.display.HTML object>"
      ]
     },
     "metadata": {},
     "output_type": "display_data"
    },
    {
     "name": "stderr",
     "output_type": "stream",
     "text": [
      "100%|██████████| 400/400 [01:30<00:00,  4.41it/s]\n"
     ]
    },
    {
     "data": {
      "text/html": [],
      "text/plain": [
       "<IPython.core.display.HTML object>"
      ]
     },
     "metadata": {},
     "output_type": "display_data"
    },
    {
     "name": "stderr",
     "output_type": "stream",
     "text": [
      "100%|██████████| 50/50 [00:08<00:00,  5.92it/s]\n"
     ]
    },
    {
     "data": {
      "text/html": [],
      "text/plain": [
       "<IPython.core.display.HTML object>"
      ]
     },
     "metadata": {},
     "output_type": "display_data"
    },
    {
     "name": "stderr",
     "output_type": "stream",
     "text": [
      "100%|██████████| 100/100 [00:16<00:00,  6.03it/s]\n"
     ]
    },
    {
     "data": {
      "text/html": [],
      "text/plain": [
       "<IPython.core.display.HTML object>"
      ]
     },
     "metadata": {},
     "output_type": "display_data"
    },
    {
     "name": "stderr",
     "output_type": "stream",
     "text": [
      "100%|██████████| 400/400 [01:07<00:00,  5.90it/s]\n"
     ]
    },
    {
     "data": {
      "text/html": [],
      "text/plain": [
       "<IPython.core.display.HTML object>"
      ]
     },
     "metadata": {},
     "output_type": "display_data"
    },
    {
     "name": "stderr",
     "output_type": "stream",
     "text": [
      "100%|██████████| 50/50 [00:10<00:00,  4.68it/s]\n"
     ]
    },
    {
     "data": {
      "text/html": [],
      "text/plain": [
       "<IPython.core.display.HTML object>"
      ]
     },
     "metadata": {},
     "output_type": "display_data"
    },
    {
     "name": "stderr",
     "output_type": "stream",
     "text": [
      "100%|██████████| 100/100 [00:20<00:00,  4.98it/s]\n"
     ]
    },
    {
     "data": {
      "text/html": [],
      "text/plain": [
       "<IPython.core.display.HTML object>"
      ]
     },
     "metadata": {},
     "output_type": "display_data"
    },
    {
     "name": "stderr",
     "output_type": "stream",
     "text": [
      "100%|██████████| 400/400 [01:20<00:00,  4.99it/s]\n"
     ]
    },
    {
     "data": {
      "text/html": [],
      "text/plain": [
       "<IPython.core.display.HTML object>"
      ]
     },
     "metadata": {},
     "output_type": "display_data"
    },
    {
     "name": "stderr",
     "output_type": "stream",
     "text": [
      "100%|██████████| 50/50 [00:08<00:00,  5.61it/s]\n"
     ]
    },
    {
     "data": {
      "text/html": [],
      "text/plain": [
       "<IPython.core.display.HTML object>"
      ]
     },
     "metadata": {},
     "output_type": "display_data"
    },
    {
     "name": "stderr",
     "output_type": "stream",
     "text": [
      "100%|██████████| 100/100 [00:18<00:00,  5.54it/s]\n"
     ]
    },
    {
     "data": {
      "text/html": [],
      "text/plain": [
       "<IPython.core.display.HTML object>"
      ]
     },
     "metadata": {},
     "output_type": "display_data"
    },
    {
     "name": "stderr",
     "output_type": "stream",
     "text": [
      "100%|██████████| 400/400 [01:07<00:00,  5.92it/s]\n"
     ]
    },
    {
     "data": {
      "text/html": [],
      "text/plain": [
       "<IPython.core.display.HTML object>"
      ]
     },
     "metadata": {},
     "output_type": "display_data"
    },
    {
     "name": "stderr",
     "output_type": "stream",
     "text": [
      "100%|██████████| 50/50 [00:11<00:00,  4.51it/s]\n"
     ]
    },
    {
     "data": {
      "text/html": [],
      "text/plain": [
       "<IPython.core.display.HTML object>"
      ]
     },
     "metadata": {},
     "output_type": "display_data"
    },
    {
     "name": "stderr",
     "output_type": "stream",
     "text": [
      "100%|██████████| 100/100 [00:19<00:00,  5.10it/s]\n"
     ]
    },
    {
     "data": {
      "text/html": [],
      "text/plain": [
       "<IPython.core.display.HTML object>"
      ]
     },
     "metadata": {},
     "output_type": "display_data"
    },
    {
     "name": "stderr",
     "output_type": "stream",
     "text": [
      "100%|██████████| 400/400 [01:20<00:00,  4.97it/s]\n"
     ]
    },
    {
     "data": {
      "text/html": [],
      "text/plain": [
       "<IPython.core.display.HTML object>"
      ]
     },
     "metadata": {},
     "output_type": "display_data"
    },
    {
     "name": "stderr",
     "output_type": "stream",
     "text": [
      "100%|██████████| 50/50 [00:08<00:00,  5.96it/s]\n"
     ]
    },
    {
     "data": {
      "text/html": [],
      "text/plain": [
       "<IPython.core.display.HTML object>"
      ]
     },
     "metadata": {},
     "output_type": "display_data"
    },
    {
     "name": "stderr",
     "output_type": "stream",
     "text": [
      "100%|██████████| 100/100 [00:16<00:00,  6.03it/s]\n"
     ]
    },
    {
     "data": {
      "text/html": [],
      "text/plain": [
       "<IPython.core.display.HTML object>"
      ]
     },
     "metadata": {},
     "output_type": "display_data"
    },
    {
     "name": "stderr",
     "output_type": "stream",
     "text": [
      "100%|██████████| 400/400 [01:10<00:00,  5.64it/s]\n"
     ]
    },
    {
     "data": {
      "text/html": [],
      "text/plain": [
       "<IPython.core.display.HTML object>"
      ]
     },
     "metadata": {},
     "output_type": "display_data"
    },
    {
     "name": "stderr",
     "output_type": "stream",
     "text": [
      "100%|██████████| 50/50 [00:09<00:00,  5.05it/s]\n"
     ]
    },
    {
     "data": {
      "text/html": [],
      "text/plain": [
       "<IPython.core.display.HTML object>"
      ]
     },
     "metadata": {},
     "output_type": "display_data"
    },
    {
     "name": "stderr",
     "output_type": "stream",
     "text": [
      "100%|██████████| 100/100 [00:20<00:00,  4.98it/s]\n"
     ]
    },
    {
     "data": {
      "text/html": [],
      "text/plain": [
       "<IPython.core.display.HTML object>"
      ]
     },
     "metadata": {},
     "output_type": "display_data"
    },
    {
     "name": "stderr",
     "output_type": "stream",
     "text": [
      "100%|██████████| 400/400 [01:19<00:00,  5.01it/s]\n"
     ]
    },
    {
     "data": {
      "text/html": [],
      "text/plain": [
       "<IPython.core.display.HTML object>"
      ]
     },
     "metadata": {},
     "output_type": "display_data"
    },
    {
     "name": "stderr",
     "output_type": "stream",
     "text": [
      "100%|██████████| 50/50 [00:09<00:00,  5.10it/s]\n"
     ]
    },
    {
     "data": {
      "text/html": [],
      "text/plain": [
       "<IPython.core.display.HTML object>"
      ]
     },
     "metadata": {},
     "output_type": "display_data"
    },
    {
     "name": "stderr",
     "output_type": "stream",
     "text": [
      "100%|██████████| 100/100 [00:17<00:00,  5.88it/s]\n"
     ]
    },
    {
     "data": {
      "text/html": [],
      "text/plain": [
       "<IPython.core.display.HTML object>"
      ]
     },
     "metadata": {},
     "output_type": "display_data"
    },
    {
     "name": "stderr",
     "output_type": "stream",
     "text": [
      "100%|██████████| 400/400 [01:10<00:00,  5.64it/s]\n"
     ]
    },
    {
     "data": {
      "text/html": [],
      "text/plain": [
       "<IPython.core.display.HTML object>"
      ]
     },
     "metadata": {},
     "output_type": "display_data"
    },
    {
     "name": "stderr",
     "output_type": "stream",
     "text": [
      "100%|██████████| 50/50 [00:10<00:00,  4.92it/s]\n"
     ]
    },
    {
     "data": {
      "text/html": [],
      "text/plain": [
       "<IPython.core.display.HTML object>"
      ]
     },
     "metadata": {},
     "output_type": "display_data"
    },
    {
     "name": "stderr",
     "output_type": "stream",
     "text": [
      "100%|██████████| 100/100 [00:22<00:00,  4.49it/s]\n"
     ]
    },
    {
     "data": {
      "text/html": [],
      "text/plain": [
       "<IPython.core.display.HTML object>"
      ]
     },
     "metadata": {},
     "output_type": "display_data"
    },
    {
     "name": "stderr",
     "output_type": "stream",
     "text": [
      "100%|██████████| 400/400 [01:30<00:00,  4.41it/s]\n"
     ]
    },
    {
     "data": {
      "text/html": [],
      "text/plain": [
       "<IPython.core.display.HTML object>"
      ]
     },
     "metadata": {},
     "output_type": "display_data"
    },
    {
     "name": "stderr",
     "output_type": "stream",
     "text": [
      "100%|██████████| 50/50 [00:09<00:00,  5.25it/s]\n"
     ]
    },
    {
     "data": {
      "text/html": [],
      "text/plain": [
       "<IPython.core.display.HTML object>"
      ]
     },
     "metadata": {},
     "output_type": "display_data"
    },
    {
     "name": "stderr",
     "output_type": "stream",
     "text": [
      "100%|██████████| 100/100 [00:18<00:00,  5.43it/s]\n"
     ]
    },
    {
     "data": {
      "text/html": [],
      "text/plain": [
       "<IPython.core.display.HTML object>"
      ]
     },
     "metadata": {},
     "output_type": "display_data"
    },
    {
     "name": "stderr",
     "output_type": "stream",
     "text": [
      "100%|██████████| 400/400 [01:07<00:00,  5.96it/s]\n"
     ]
    },
    {
     "data": {
      "text/html": [],
      "text/plain": [
       "<IPython.core.display.HTML object>"
      ]
     },
     "metadata": {},
     "output_type": "display_data"
    },
    {
     "name": "stdout",
     "output_type": "stream",
     "text": [
      "Best Model Configuration:\n",
      "{'total_i': 400, 'dataset': '1d-logistic-ode', 'model_name': 'pinn_ff', 'in_dim': 3, 'hidden_dim': 256, 'out_dim': 1, 'num_layer': 4, 'init_weights': 'xavier uniform', 'bias_fill': 0.01, 'init_activ_func': 'tanh', 'subseq_activ_func': 'gelu', 'optimizer': 'adam', 'learning_rate': 0.001, 'batch_size': 128, 'normalize_res': False, 'normalize_ic': False, 'adaptive_loss_weighting': True, 'adaptive_loss_coeff': 0.9}\n",
      "Best Average L1 Error: 0.0011434312909841537\n",
      "Best Average L2 Error: 0.0013427271042019129\n"
     ]
    }
   ],
   "source": [
    "# Define rho values\n",
    "rho_values = [0.5, 0.7, 0.8, 1.0] # small range\n",
    "\n",
    "# Create the dataset using the ODEData class.\n",
    "# Note: We now provide t_range, t_points, a constant x value (e.g., 1.0), and rho_values.\n",
    "dataset = ODEData(t_range=[0, 1], rho_values=rho_values, t_points=101, constant_x=1.0, device='cuda:0')\n",
    "\n",
    "\n",
    "# === Variations ===\n",
    "normalize_res_values = [False] #[True, False]\n",
    "normalize_ic_values = [False] #[True, False]\n",
    "adaptive_loss = [True, False]\n",
    "adaptive_loss_weighting_coeffs = [0.5, 0.7, 0.9]\n",
    "alpha_values = [None]#[0.1, 0.25] #[0.1, 0.25, 0.5]\n",
    "epsilon_values = [None]#[0.1, 0.3] #[0.1, 0.5, 1.0]\n",
    "iteration_steps = [50, 100, 400]\n",
    "models = []\n",
    "for init_act,subseq_act in [(\"sin\", \"tanh\"), (\"sin\",\"gelu\"), (\"tanh\", \"gelu\")]:\n",
    "    model = PINNff(in_dim=config.in_dim, \n",
    "                   hidden_dim=config.hidden_dim,\n",
    "                   out_dim=config.out_dim,\n",
    "                   num_layer=config.num_layer,\n",
    "                   init_act_func=init_act,\n",
    "                   subseq_activ_func=subseq_act).to(device)\n",
    "    model.apply(init_weights)\n",
    "    models.append((model,init_act, subseq_act))\n",
    "\n",
    "\n",
    "# === Grid Search ===\n",
    "best_model = None\n",
    "best_config = None\n",
    "best_l1 = float('inf')\n",
    "best_l2 = float('inf')\n",
    "\n",
    "for model,i_act,s_act in models: \n",
    "    for normalize_res in normalize_res_values:\n",
    "        for normalize_ic in normalize_ic_values:\n",
    "            for a_coeff in adaptive_loss_weighting_coeffs:\n",
    "                for ad_loss in adaptive_loss:\n",
    "                    for alpha in alpha_values:\n",
    "                        for epsilon in epsilon_values:\n",
    "                            for total_i in iteration_steps:\n",
    "                                config.normalize_res = normalize_res\n",
    "                                config.normalize_ic = normalize_ic\n",
    "                                config.adaptive_loss_coeff = a_coeff\n",
    "                                config.alpha = alpha\n",
    "                                config.epsilon = epsilon\n",
    "                                config.total_i = total_i\n",
    "                                config.adaptive_loss_weighting = ad_loss\n",
    "                                config.init_activ_func = i_act \n",
    "                                config.subseq_activ_func = s_act\n",
    "                                config.validate()\n",
    "\n",
    "                                # Call the training function\n",
    "                                config_dict = config.to_dict()\n",
    "                                if config.optimizer == \"adam\":\n",
    "                                    optim = Adam(model.parameters(), lr=config_dict[\"learning_rate\"])\n",
    "                                loss_track, avg_l1, avg_l2 = run_training(config_dict, model, optim, dataset, rho_values, device)\n",
    "\n",
    "                                # Update the best model if the current one is better\n",
    "                                if avg_l1 < best_l1 and avg_l2 < best_l2:\n",
    "                                    best_model = model\n",
    "                                    best_config = config_dict.copy()\n",
    "                                    best_l1 = avg_l1\n",
    "                                    best_l2 = avg_l2\n",
    "\n",
    "# Print the best model and configuration\n",
    "print(\"Best Model Configuration:\")\n",
    "print(best_config)\n",
    "print(f\"Best Average L1 Error: {best_l1}\")\n",
    "print(f\"Best Average L2 Error: {best_l2}\")"
   ]
  },
  {
   "cell_type": "code",
   "execution_count": 40,
   "metadata": {},
   "outputs": [],
   "source": [
    "# %%\n",
    "from pathlib import Path\n",
    "\n",
    "base_dir = Path(\".\")  # Base directory for results\n",
    "images_dir = base_dir / \"images\"  # Subdirectory for images\n",
    "weights_dir = base_dir / \"weights\"  # Subdirectory for stored model\n",
    "\n",
    "# Create the directories if they don't exist\n",
    "images_dir.mkdir(parents=True, exist_ok=True)\n",
    "weights_dir.mkdir(parents=True, exist_ok=True)"
   ]
  },
  {
   "cell_type": "code",
   "execution_count": 41,
   "metadata": {},
   "outputs": [],
   "source": [
    "import matplotlib.pyplot as plt\n",
    "import numpy as np\n",
    "\n",
    "def plot_predictions_and_errors(rho_values, predictions, analytical_solutions, errors, num_cols=4, save_path=None):\n",
    "    \"\"\"\n",
    "    Plot predictions and errors for multiple rho values in a grid layout.\n",
    "\n",
    "    Args:\n",
    "        rho_values (list): List of rho values.\n",
    "        predictions (dict): Dictionary of predictions for each rho value.\n",
    "        analytical_solutions (dict): Dictionary of analytical solutions for each rho value.\n",
    "        errors (dict): Dictionary of absolute errors for each rho value.\n",
    "        num_cols (int): Number of columns in the grid (default: 4).\n",
    "        save_path (str or Path, optional): Path to save the figure. If None, the figure is not saved.\n",
    "    \"\"\"\n",
    "    num_rho = len(rho_values)\n",
    "    num_rows = 2  # Fixed: Row 1 for predictions, Row 2 for errors\n",
    "    fig, axes = plt.subplots(num_rows, num_cols, figsize=(4 * num_cols, 6))\n",
    "\n",
    "    # Ensure axes is a 2D array even if num_cols == 1\n",
    "    axes = np.atleast_2d(axes)\n",
    "\n",
    "    for idx, rho in enumerate(rho_values):\n",
    "        col = idx % num_cols\n",
    "\n",
    "        # Extract data for the current rho\n",
    "        pred = predictions[rho]\n",
    "        analytical = analytical_solutions[rho]\n",
    "        abs_error = errors[rho]\n",
    "        percentage_error = (abs_error / np.maximum(analytical, 1e-8)) * 100  # Avoid division by zero\n",
    "\n",
    "        ax_pred = axes[0, col]\n",
    "        ax_pred.plot(pred, label=\"Prediction\", color=\"blue\", linewidth=2)\n",
    "        ax_pred.plot(analytical, label=\"Analytical\", color=\"orange\", linestyle=\"dashed\", linewidth=2)\n",
    "        ax_pred.set_title(f\"Rho: {rho} - Prediction\")\n",
    "        ax_pred.set_xlabel(\"t - Time\")  # Horizontal axis label\n",
    "        ax_pred.set_ylabel(\"u(t) - Value\")  # Vertical axis label\n",
    "        ax_pred.legend()\n",
    "        \n",
    "\n",
    "        # Plot absolute and percentage errors (Row 2)\n",
    "        ax_err = axes[1, col]\n",
    "        #ax_err.plot(abs_error, label=\"Absolute Error\", color=\"red\", linewidth=2)\n",
    "        ax_err.plot(percentage_error, label=\"Percentage Error\", color=\"green\", linestyle=\"dotted\", linewidth=2)\n",
    "        ax_err.set_title(f\"Rho: {rho} - Relative Error (%)\")\n",
    "        ax_err.legend()\n",
    "\n",
    "    # Hide unused subplots if num_rho < num_cols\n",
    "    for idx in range(num_rho, num_cols):\n",
    "        axes[0, idx].axis(\"off\")\n",
    "        axes[1, idx].axis(\"off\")\n",
    "\n",
    "    # Adjust layout\n",
    "    plt.tight_layout()\n",
    "\n",
    "    # Save the figure if a save path is provided\n",
    "    if save_path:\n",
    "        plt.savefig(save_path, dpi=300)\n",
    "        print(f\"Figure saved to {save_path}\")\n",
    "\n",
    "    plt.show()"
   ]
  },
  {
   "cell_type": "code",
   "execution_count": 42,
   "metadata": {},
   "outputs": [
    {
     "name": "stdout",
     "output_type": "stream",
     "text": [
      "Figure saved to images\\predictions_and_errors.png\n"
     ]
    },
    {
     "data": {
      "image/png": "[encoded data removed]",
      "text/plain": [
       "<Figure size 1600x600 with 8 Axes>"
      ]
     },
     "metadata": {},
     "output_type": "display_data"
    }
   ],
   "source": [
    "# %%\n",
    "# Generate predictions and errors for plotting\n",
    "predictions = {}\n",
    "analytical_solutions = {}\n",
    "errors = {}\n",
    "\n",
    "for rho in rho_values:\n",
    "    # Get test points for the current rho\n",
    "    x_test, t_test, _ = dataset.get_test_points(rho)\n",
    "    rho_test = torch.full_like(x_test, rho).to(device)\n",
    "\n",
    "    # Compute analytical solution\n",
    "    u_analytical = dataset.analytical_solution(x_test, t_test, rho).cpu().detach().numpy().reshape(-1)\n",
    "\n",
    "    # Compute best model predictions\n",
    "    with torch.no_grad():\n",
    "        pred = best_model(x_test.to(device), t_test.to(device), rho_test.to(device))[:, 0:1]\n",
    "        pred = pred.cpu().detach().numpy().reshape(-1)\n",
    "\n",
    "    # Compute error\n",
    "    error = np.abs(u_analytical - pred)\n",
    "\n",
    "    # Store results\n",
    "    predictions[rho] = pred\n",
    "    analytical_solutions[rho] = u_analytical\n",
    "    errors[rho] = error\n",
    "\n",
    "# Plot predictions and errors\n",
    "plot_predictions_and_errors(\n",
    "    rho_values=rho_values,\n",
    "    predictions=predictions,\n",
    "    analytical_solutions=analytical_solutions,\n",
    "    errors=errors,\n",
    "    num_cols=4,\n",
    "    save_path=images_dir / \"predictions_and_errors.png\"\n",
    ")"
   ]
  }
 ],
 "metadata": {
  "kernelspec": {
   "display_name": "gnn_project_env",
   "language": "python",
   "name": "python3"
  },
  "language_info": {
   "codemirror_mode": {
    "name": "ipython",
    "version": 3
   },
   "file_extension": ".py",
   "mimetype": "text/x-python",
   "name": "python",
   "nbconvert_exporter": "python",
   "pygments_lexer": "ipython3",
   "version": "3.12.8"
  }
 },
 "nbformat": 4,
 "nbformat_minor": 2
}
